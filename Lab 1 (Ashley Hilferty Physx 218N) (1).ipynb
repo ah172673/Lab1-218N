{
 "cells": [
  {
   "cell_type": "markdown",
   "metadata": {},
   "source": [
    "Ashley Hilferty Physics 218N"
   ]
  },
  {
   "cell_type": "code",
   "execution_count": 2,
   "metadata": {},
   "outputs": [],
   "source": [
    "import numpy as np\n",
    "\n",
    "def rule3(errA,errB):\n",
    "    errQ = np.sqrt(errA**2 + errB**2)\n",
    "    return errQ"
   ]
  },
  {
   "cell_type": "code",
   "execution_count": 3,
   "metadata": {},
   "outputs": [
    {
     "name": "stdout",
     "output_type": "stream",
     "text": [
      "0.31622776601683794\n"
     ]
    }
   ],
   "source": [
    "errT_i = .3 #C\n",
    "errT_f = .1 #C\n",
    "\n",
    "err_Delta_T = rule3(errT_i, errT_f)\n",
    "\n",
    "print (err_Delta_T)\n"
   ]
  },
  {
   "cell_type": "markdown",
   "metadata": {},
   "source": [
    "$\\Delta L = \\alpha L \\Delta T$"
   ]
  },
  {
   "cell_type": "markdown",
   "metadata": {},
   "source": [
    "$\\alpha = \\frac {\\Delta L}{L \\Delta T}$"
   ]
  },
  {
   "cell_type": "code",
   "execution_count": 6,
   "metadata": {},
   "outputs": [],
   "source": []
  },
  {
   "cell_type": "code",
   "execution_count": 11,
   "metadata": {},
   "outputs": [],
   "source": [
    "def Thermal_Expansion(h,g,f):\n",
    "    fish = h*g**-1*f**-1\n",
    "    return fish"
   ]
  },
  {
   "cell_type": "code",
   "execution_count": 12,
   "metadata": {},
   "outputs": [
    {
     "name": "stdout",
     "output_type": "stream",
     "text": [
      "1.722830955826614e-05\n"
     ]
    }
   ],
   "source": [
    "DeltaLength = .00125 #m\n",
    "Length = 1.05 #m\n",
    "DeltaT = 92.5-23.4 #degreesC\n",
    "\n",
    "alpha = Thermal_Expansion(DeltaLength, Length, DeltaT)\n",
    "\n",
    "print (alpha)\n"
   ]
  },
  {
   "cell_type": "code",
   "execution_count": 14,
   "metadata": {},
   "outputs": [],
   "source": [
    "def rule4(Q, m, errA, A, n, errB, B, o, errC, C):\n",
    "    errQ4 = Q*np.sqrt((m*errA/A)**2 + (n*errB/B)**2 + (o*errC/C)**2)\n",
    "    return errQ4"
   ]
  },
  {
   "cell_type": "code",
   "execution_count": 15,
   "metadata": {},
   "outputs": [
    {
     "name": "stdout",
     "output_type": "stream",
     "text": [
      "1.596296282604527e-07\n"
     ]
    }
   ],
   "source": [
    "alph = 1.722830955826614e-05\n",
    "m = 1\n",
    "errDL = .00001 #m\n",
    "DL = .00125 #m\n",
    "n = -1\n",
    "errL = .001 #m \n",
    "L = 1.05 #m\n",
    "o = -1\n",
    "errDT = 0.31622776601683794 #degreesC\n",
    "DT = 92.5-23.4 #degreesC\n",
    "\n",
    "Delta_alpha = rule4(alph, m, errDL, DL, n, errL, L, o, errDT, DT)\n",
    "\n",
    "print (Delta_alpha)"
   ]
  },
  {
   "cell_type": "code",
   "execution_count": null,
   "metadata": {},
   "outputs": [],
   "source": []
  }
 ],
 "metadata": {
  "kernelspec": {
   "display_name": "Python 3",
   "language": "python",
   "name": "python3"
  },
  "language_info": {
   "codemirror_mode": {
    "name": "ipython",
    "version": 3
   },
   "file_extension": ".py",
   "mimetype": "text/x-python",
   "name": "python",
   "nbconvert_exporter": "python",
   "pygments_lexer": "ipython3",
   "version": "3.7.1"
  }
 },
 "nbformat": 4,
 "nbformat_minor": 2
}
